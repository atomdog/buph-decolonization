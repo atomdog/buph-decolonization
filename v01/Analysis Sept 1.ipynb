{
 "cells": [
  {
   "cell_type": "markdown",
   "id": "43bf1575-b2a6-4d65-b24e-63da2f5809e0",
   "metadata": {},
   "source": [
    "# Materials and Points of Reference\n",
    "### Similar Projects\n",
    "- [Stanford Large Network Dataset](https://snap.stanford.edu/data/index.html#communities):\n",
    "A collection of 20+ large networks spanning multiple topics from academic collaboration (among physicists) to Facebook networks\n",
    "- - [Reddit Temporal Networks](https://cs.stanford.edu/~srijan/pubs/conflict-paper-www18.pdf)"
   ]
  },
  {
   "cell_type": "markdown",
   "id": "b87c10ed-4a3b-41ac-a325-6302bcd901a8",
   "metadata": {},
   "source": [
    "# Methods and Metrics\n",
    "### Community Detection: \n",
    "- [Girvan-Newman Algorithm](https://memgraph.github.io/networkx-guide/algorithms/community-detection/girvan-newman/): iterative elimination of edges that have the highest number of shortest paths between nodes passing through them so that by removing edges from the graph one-by-one, the network breaks down into smaller pieces, so-called communities.\n",
    "- [Louvain Method](https://www.nature.com/articles/s41598-019-41695-z): Good for finding non-overlapping communities by way of graph *modularity*"
   ]
  },
  {
   "cell_type": "markdown",
   "id": "d525bba0-8da8-44e0-9cf7-20afbed5aa40",
   "metadata": {},
   "source": [
    "# Goals\n",
    "\n",
    "### Static Network Analysis\n",
    "1. Acquire data from selected journals \n",
    "2. Preprocess data (string cleaning, matching institutions to known entities)\n",
    "3. Geolocate institutions\n",
    "4. Rank centrality\n",
    "5. Apply Girvan-Newman, Louvain\n"
   ]
  },
  {
   "cell_type": "markdown",
   "id": "7d0f13af-7691-45f3-a10e-39bd78f5414d",
   "metadata": {},
   "source": [
    "# Past Week\n",
    "1. Bug fixes\n",
    "2. Brief foray into similar projects\n",
    "3. Examined new techniques"
   ]
  },
  {
   "cell_type": "code",
   "execution_count": 16,
   "id": "9536f803-98a7-44a6-b31d-d67a5e98260d",
   "metadata": {},
   "outputs": [],
   "source": [
    "# file reading/writing \n",
    "import storage \n",
    "import csv\n",
    "\n",
    "# analysis \n",
    "import networkx as nx\n",
    "from haversine import haversine\n",
    "\n",
    "# standard plotting \n",
    "import seaborn \n",
    "import matplotlib.pyplot as plt\n",
    "\n",
    "# mapping \n",
    "import folium\n",
    "from IPython.display import display, IFrame\n",
    "from folium.plugins import HeatMap\n",
    "from folium.plugins import MarkerCluster\n",
    "from shapely.geometry import shape, Point\n",
    "\n",
    "\n",
    "# standard utility\n",
    "import numpy as np\n",
    "import random\n",
    "import json\n",
    "import pandas as pd\n",
    "\n",
    "# text processing\n",
    "import spacy\n",
    "from bertopic import BERTopic\n"
   ]
  },
  {
   "cell_type": "code",
   "execution_count": 28,
   "id": "8b43db41-4393-4cac-bd3d-d7ad8e16ade2",
   "metadata": {},
   "outputs": [
    {
     "name": "stdout",
     "output_type": "stream",
     "text": [
      "325\n",
      "['Diabetes mellitusProgress and opportunities in the evolving epidemic.', '50 years of metabolism research at Cell.', 'Pancancer singlecell dissection reveals phenotypically distinct B cell subtypes.', 'MYBrelated transcription factors control chloroplast biogenesis.', 'Innate immune memory after brain injury drives inflammatory cardiac dysfunction.', 'Presynaptic sensor and silencer of peptidergic transmission reveal neuropeptides as primary transmitters in pontine fear circuit.', 'Integrated cryoEM structure of a spumaretrovirus reveals crosskingdom evolutionary relationships and the molecular basis for assembly and virus entry.', 'Allogeneic CD19targeted CART therapy in patients with severe myositis and systemic sclerosis.', 'The WDR11 complex is a receptor for acidicclustercontaining cargo proteins.', 'Molecular and cellular mechanisms of teneurin signaling in synaptic partner matching.', 'Assembly and activation of EBV latent membrane protein 1.', 'Threedimensional genome architecture persists in a 52,000yearold woolly mammoth skin sample.', 'Immune mechanisms in fibrotic interstitial lung disease.', 'Timing is everything: How plants optimize reproduction in a variable environment.', 'Reduction hits the sweet spot: A revised biosynthesis of dolichol.', 'Advancing accessible science for lowvision and diverseneeds communities.', 'TULIPs decorate the threedimensional genome of PFA ependymoma.', 'A noncanonical role for a small nucleolar RNA in ribosome biogenesis and senescence.', 'AllRNAmediated targeted gene integration in mammalian cells with rationally engineered R2 retrotransposons.', 'Intestinal Blastocystis is linked to healthier diets and more favorable cardiometabolic outcomes in 56,989 individuals from 32 countries.', 'Early rhombic lip Protogenin(+ve) stem cells in a humanspecific neurovascular niche initiate and maintain group 3 medulloblastoma.', 'Neoadjuvant PARPi or chemotherapy in ovarian cancer informs targeting effector Treg cells for homologous-recombination-deficient tumors.', 'Progestogendriven B7H4 contributes to oncofetal immune tolerance.', 'TMPRSS2 and glycan receptors synergistically facilitate coronavirus entry.', 'Human coronavirus HKU1 recognition of the TMPRSS2 host receptor.', 'The lifesaving benefit of dexamethasone in severe COVID19 is linked to a reversal of monocyte dysregulation.', 'Structural basis of TMPRSS2 zymogen activation and recognition by the HKU1 seasonal coronavirus.', 'The germline coordinates mitokine signaling.', 'Loss of transient receptor potential channel 5 causes obesity and postpartum depression.', 'Temporal dynamics of woolly mammoth genome erosion prior to extinction.', 'The extracellular matrix integrates mitochondrial homeostasis.', 'Microglialderived C1q integrates into neuronal ribonucleoprotein complexes and impacts protein homeostasis in the aging brain.', 'Stressdependent condensate formation regulated by the ubiquitinrelated modifier Urm1.', 'Preclinical proof of principle for orally delivered Th17 antagonist miniproteins.', 'Amplification editing enables efficient and precise duplication of DNA from short sequence to megabase and chromosomal scale.', 'Multiplexed singlecell characterization of alternative polyadenylation regulators.', 'The primitive endoderm supports lineage plasticity to enable regulative development.', 'Dolutegravir plus boosted darunavir versus recommended standardofcare antiretroviral regimens in people with HIV-1 for whom recommended first-line non-nucleoside reverse transcriptase inhibitor therapy has failed (D(2)EFT): an open-label, randomised, phase 3b/4 trial.', 'Secondline HIV treatments for adults in LMICs.', 'Efficacy and safety of three antiretroviral therapy regimens for treatmentnaive African adults living with HIV-2 (FIT-2): a pilot, phase 2, non-comparative, open-label, randomised controlled trial.', 'Closing the equity gap in the treatment of HIV2 infection.', 'Switch to fixeddose doravirine (100 mg) with islatravir (0·75 mg) once daily in virologically suppressed adults with HIV-1 on bictegravir, emtricitabine, and tenofovir alafenamide: 48-week results of a phase 3, randomised, controlled, double-blind, non-inferiority trial.', 'Switch to fixeddose doravirine (100 mg) with islatravir (0·75 mg) once daily in virologically suppressed adults with HIV-1 on antiretroviral therapy: 48-week results of a phase 3, randomised, open-label, non-inferiority trial.', 'Is this the end of the road for daily islatravir 0·75 mg?', 'Contextspecific estimates of vertical transmission.', 'Twodrug regimens for the treatment of HIV in Africa.', 'Safety and immunogenicity of a polyvalent DNAprotein HIV vaccine with matched Env immunogens delivered as a prime-boost regimen or coadministered in HIV-uninfected adults in the USA (HVTN 124): a phase 1, placebo-controlled, double-blind randomised controlled trial.', 'HIV at a crossroads in Pakistan.', 'DNA and protein HIV vaccines: how should we mix it?', 'Pharmacokinetics and safety of coformulated bictegravir, emtricitabine, and tenofovir alafenamide in children aged 2 years and older with virologically suppressed HIV: a phase 2/3, open-label, single-arm study.', 'Associations between change in BMI and the risk of hypertension and dyslipidaemia in people receiving integrase strand-transfer inhibitors, tenofovir alafenamide, or both compared with other contemporary antiretroviral regimens: a multicentre, prospective observational study from the RESPOND consortium cohorts.', 'More pressure on integrase strandtransfer inhibitors?', 'Expanding options of childfriendly, singletablet regimens for young children with HIV.', 'Nonsuppressible viraemia during HIV1 therapy: a challenge for clinicians.', 'Correction to Lancet HIV 2024; 11: e8695.', 'Enhancing HIV care with incentives: one size does not fit all.', 'Voucher incentives to improve viral suppression among HIVpositive people who inject drugs and men who have sex with men in India: a cluster randomised trial.', 'Intersectional climate justice, health equity, and HIV.', 'Correction to Lancet HIV 2024; 11: e6465.', 'Acceptability and tolerability of longacting injectable cabotegravir or rilpivirine in the first cohort of virologically suppressed adolescents living with HIV (IMPAACT 2017/MOCHA): a secondary analysis of a phase 1/2, multicentre, open-label, non-comparative dose-finding study.', 'Safety and pharmacokinetics of oral and longacting injectable cabotegravir or long-acting injectable rilpivirine in virologically suppressed adolescents with HIV (IMPAACT 2017/MOCHA): a phase 1/2, multicentre, open-label, non-comparative, dose-finding study.', 'Treatmentasprevention and HIV incidence in men who have sex with men.', \"Treatmentasprevention and HIV incidence in men who have sex with men  Authors' reply.\", 'Optimising PrEP uptake and use in Peru: no time to lose!', 'Are we ready for longacting HIV treatment for adolescents?', 'Collective antiretroviral protection: new dimensions of community HIV prevention practices at the intersection of U=U and PrEP.', 'Progress towards the UNAIDS 959595 targets in the Fifth Botswana AIDS Impact Survey (BAIS V 2021): a nationally representative survey.', 'Evidence with 959595 that ambitious is feasible.', 'Lowcost urine tenofovir assay to triage dolutegravir resistance testing.', 'Uncovering HIV and malaria interactions: the latest evidence and knowledge gaps.', 'Health equity for Black sexually minoritised men through statusneutral HIV care.', 'Effect of screening for Neisseria gonorrhoeae and Chlamydia trachomatis on incidence of these infections in men who have sex with men and transgender women taking HIV pre-exposure prophylaxis (the Gonoscreen study): results from a randomised, multicentre, controlled trial.', 'Who benefits from frequent asymptomatic STI screening?', 'GeneMAP enables discovery of metabolic gene function.', 'Author Correction: LINE1 transcription activates longrange gene expression.', 'The potential and translational application of infant genetic research.', 'Mapping the lung fibrosis transcriptome of mice and men.', 'Mining the diagnosis of rare disease with limited resources.', 'Genetic gear switches drive cancer immune evasion.', 'A ΔNp63MED12 axis drives basallike identity in pancreatic cancer.', 'Nitrogen uptake and productive tiller formation in rice.', 'Interaction between MED12 and ΔNp63 activates basal identity in pancreatic ductal adenocarcinoma.', 'Metagenomics of the human gut mycobiome.', 'RNA editing with CRISPR.', 'Library size normalization affects spatial domain identification.', 'Exploring the origins of pancreatic cancer.', 'Ultrasound perception mechanisms revealed by comparisons of microbats and megabats.', 'Creating a culture that supports food security and health equity at higher education institutions.', 'Quality and accuracy of online nutritionrelated information: a systematic review of content analysis studies.', 'Strengthening maternal nutrition counselling during routine health services: a gap analysis to guide country programmes.', 'The use of private regulatory measures to create healthy food retail environments: a scoping review.', 'Public policy interventions to mitigate household food insecurity in Canada: a systematic review.', 'Emulsifiers in ultraprocessed foods in the UK food supply.', 'Shining a light on marginal food insecurity in an understudied population.', 'Proactive surveillance for avian influenza H5N1 and other priority pathogens at mass gathering events.', 'The 2024 Europe report of the Lancet Countdown on health and climate change: unprecedented warming demands unprecedented action.', 'The future of public health doctoral education in Africa: transforming higher education institutions to enhance research and practice.', 'Interventions that prevent or respond to intimate partner violence against women and violence against children: a systematic review.', 'Building disabilityinclusive health systems.', 'The association between disability and mortality: a mixedmethods study.', 'Agespecific and causespecific mortality contributions to the socioeconomic gap in life expectancy in Germany, 2003-21: an ecological study.', 'Differences across the lifespan between females and males in the top 20 causes of disease burden globally: a systematic analysis of the Global Burden of Disease Study 2021.', 'Correction to Lancet Public Health 2024; 9: e27074.', 'Challenges in assessing arealevel mortality inequalities.', 'Time to implement sex and gender responsive policies and programmes.', 'Best practices for government agencies to publish data: lessons from COVID19.', 'Beyond misinformation: developing a public health prevention framework for managing information ecosystems.', 'Measles in jails and prisons.', 'Life course epidemiology and public health.', 'Mental and physical health morbidity among people in prisons: an umbrella review.', 'Prevalence of dementia among people experiencing homelessness in Ontario, Canada: a population-based comparative analysis.', 'Socioeconomic inequalities in accumulation of multimorbidity in England from 2019 to 2049: a microsimulation projection study.', 'Future HIV epidemic trajectories in South Africa and projected longterm consequences of reductions in general population HIV testing: a mathematical modelling study.', 'Correction to Lancet Public Health 2024; 9: e10927.', 'Inequalities in physical and mental health among people in prison.', 'The connection between homelessness and dementia.', 'Is multimorbidity a useful concept for public health?', 'Strategic planning for the second era of the HIV epidemic.', 'Estimating the burden of vitiligo: a systematic review and modelling study.', 'Achieving universal social protection for people with tuberculosis.', 'Investing in bereavement care as a public health priority.', 'The effect of healthcare privatisation on the quality of care.', 'Burden of liver cancer mortality by county, race, and ethnicity in the USA, 2000-19: a systematic analysis of health disparities.', 'Effect of calorie labelling in the outofhome food sector on adult obesity prevalence, cardiovascular mortality, and social inequalities in England: a modelling study.', 'Subnational inequalities in years of life lost and associations with socioeconomic factors in pre-pandemic Europe, 2009-19: an ecological study.', \"Do agestandardised dementia incidence rates really increase in England and Wales? - Authors' reply.\", 'Do agestandardised dementia incidence rates really increase in England and Wales?', 'The role of simulation modelling in public health policy evaluation.', 'Social and spatial inequalities in premature mortality across Europe.', 'Nitazenes represent a growing threat to public health in Europe.', 'Comment on \"Determinants of PFOA Serum HalfLife after End of Exposure: A Longitudinal Study on Highly Exposed Subjects in the Veneto Region\".', 'Response to \"Comment on \\'Determinants of PFOA Serum HalfLife after End of Exposure: A Longitudinal Study on Highly Exposed Subjects in the Veneto Region\\'\".', 'Association of Psychiatric Emergency Visits and Warm Ambient Temperature during Pregnancy: A Time-Stratified Case-Crossover Study.', 'Reducing Transmission of Airborne Respiratory Pathogens: A New Beginning as the COVID-19 Emergency Ends.', 'ConcentrationResponse Functions Relating Concentration and Duration of Ambient Traffic-Related Air Pollution Exposure to Systolic Blood Pressure.', 'A HazardBased Framework for Identifying Safer Alternatives to Classes of Chemicals: A Case Study on Phthalates in Consumer Products.', 'Comment on \"Association between Residential Proximity to Viticultural Areas and Childhood Acute Leukemia Risk in Mainland France: GEOCAP Case-Control Study, 2006-2013\".', 'Invited Perspective: Per and Polyfluoroalkyl Substances in Drinking Water-Disparities in Community Exposures Based on Race and Socioeconomic Status.', 'Risk estimation for the primary prevention of cardiovascular disease: considerations for appropriate risk prediction model selection.', 'Costeffectiveness of group medical visits and microfinance interventions versus usual care to manage hypertension in Kenya: a secondary modelling analysis of data from the Bridging Income Generation with Group Integrated Care (BIGPIC) trial.', 'Resistanceinformed versus empirical management of viraemia in children and adolescents with HIV in Lesotho and Tanzania (GIVE MOVE trial): a multisite, open-label randomised controlled trial.', 'Receipt of hepatitis E vaccine and fetal loss in rural Bangladesh: further analysis of a double-blind, cluster-randomised, controlled trial.', 'Safety and effectiveness of a recombinant hepatitis E vaccine in women of childbearing age in rural Bangladesh: a phase 4, double-blind, cluster-randomised, controlled trial.', 'Temporal changes in cause of death among adolescents and adults in six countries in eastern and southern Africa in 1995-2019: a multi-country surveillance study of verbal autopsy data.', 'Incidence of and risk factors for small vulnerable newborns in north India: a secondary analysis of a prospective pregnancy cohort.', 'HIV incidence among women engaging in sex work in subSaharan Africa: a systematic review and meta-analysis.', 'Delivering safe dengue vaccines.', 'Overthecounter sales of antibiotics: a call to action to ensure access and prevent excess.', 'A successful UN HighLevel Meeting on antimicrobial resistance must build on the 2023 UN High-Level Meeting on tuberculosis.', 'Can resistance testing improve outcomes for children and adolescents with HIV?', 'Using verbal autopsy to enhance mortality surveillance.', 'Leveraging universal health coverage to leave no one behind in tackling AMR.', 'Epilepsy prevalence studies and the lingering treatment gap in Africa.', 'Prevalence of all epilepsies in urban informal settlements in Nairobi, Kenya: a two-stage population-based study.', 'Correction to Lancet Glob Health 2023; 11: e67383.', 'Does every move really count towards better health?', 'National, regional, and global trends in insufficient physical activity among adults from 2000 to 2022: a pooled analysis of 507 population-based surveys with 5·7 million participants.', 'Correction to Lancet Glob Health 2024; 12: e108990.', 'Correction to Lancet Glob Health 2024; 12: e120913.', 'Hypoxaemia and risk of death among children: rethinking oxygen saturation, risk-stratification, and the role of pulse oximetry in primary care.', 'News media as a commercial determinant of health.', 'Global health for rare diseases through primary care.', 'Diagnostic yield as an important metric for the evaluation of novel tuberculosis tests: rationale and guidance for future research.', 'The drug drought in maternal health: an ongoing predicament.', 'Costeffectiveness of interventions for HIV/AIDS, malaria, syphilis, and tuberculosis in 128 countries: a meta-regression analysis.', 'Tradeoffs between clinical performance and test accessibility in tuberculosis diagnosis: a multi-country modelling approach for target product profile development.', 'Neurodevelopment in preschool children exposed and unexposed to Zika virus in utero in Nicaragua: a prospective cohort study.', 'Analysis of opioid analgesics consumption in Africa: a longitudinal study from a 20-year continental perspective.', 'Factors associated with skilled birth attendance in 37 lowincome and middle-income countries: a secondary analysis of nationally representative, individual-level data.', 'Why are the Sustainable Development Goals failing? Overcoming the paradox of unimplementability.', \"Aligning metaregression analyses of costeffectiveness evidence to policy makers' needs.\", 'Analysis of opioid analgesic consumption in Africa.', 'Skilled birth attendance: safeguarding mothers and newborns.', 'Correction to Lancet Glob Health 2024; 12: e81525.', 'Erasing stigma around rare diseases.', 'For and with people: announcing the Lancet Global Health Commission on people-centred care for universal health coverage and a call for commissioner nominations.', 'The widereaching power of technology.', 'DdmDE eliminates plasmid invasion by DNAguided DNA targeting.', 'The modified RNA base acp(3)U is an attachment site for Nglycans in glycoRNA.', 'A genetic basis for sex differences in Xp11 translocation renal cell carcinoma.', 'Condensate interfacial forces reposition DNA loci and probe chromatin viscoelasticity.', 'Dynamic regulation of tissue fluidity controls skin repair during wound healing.', 'Vaginal Lactobacillus fatty acid response mechanisms reveal a metabolitetargeted strategy for bacterial vaginosis treatment.', 'Mining human microbiomes reveals an untapped source of peptide antibiotics.', 'Schwann cellsecreted PGE(2) promotes sensory neuron excitability during development.', 'High expression of oleoylACP hydrolase underpins lifethreatening respiratory viral diseases.', 'Macrophagemediated myelin recycling fuels brain cancer malignancy.', 'The molecular architecture of the nuclear basket.', 'The need to diversify genomic studies: Insights from Andean highlanders and Amazonians.', 'Stresssensitive neural circuits change the gut microbiome via duodenal glands.', 'Blockade of LAG3 and PD1 leads to coexpression of cytotoxic and exhaustion gene modules in CD8(+) T cells to promote antitumor immunity.', 'LAG3 and PD1 synergize on CD8(+) T\\xa0cells to drive T cell exhaustion and hinder autocrine IFN-γ-dependent anti-tumor immunity.', 'LAG3 sustains TOX expression and regulates the CD94/NKG2Qa1b axis to govern exhausted CD8 T\\xa0cell NK receptor expression and cytotoxicity.', 'Guidelines for minimal information on cellular senescence experimentation in\\xa0vivo.', 'Prying the lid open: Atomiclevel insights on sialoglycanTMPRSS2 coordination in HKU1 entry.', 'AntiLAG3 boosts CD8 T\\xa0cell effector function.', 'The FXR1 network acts as a signaling scaffold for actomyosin remodeling.', 'Neutrophil trapping and nexocytosis, mast cellmediated processes for inflammatory signal relay.', 'A replisomeassociated histone H3H4 chaperone required for epigenetic inheritance.', 'The fork protection complex promotes parental histone recycling and epigenetic memory.', 'Activation of the helper NRC4 immune receptor forms a hexameric resistosome.', 'Host and environmental factors shape upper airway microbiota and respiratory health across the human lifespan.', 'Multilayered computational gene networks by engineered tristate logics.', 'The choroid plexus synergizes with immune cells during neuroinflammation.', 'Molecular mechanism of distinct chemokine engagement and functional divergence of the human Duffy antigen receptor.', 'Extensive structural rearrangement of intraflagellar transport trains underpins bidirectional cargo transport.', 'Translational potential of mouse models of human metabolic disease.', 'Natural malaria infection elicits rare but potent neutralizing antibodies to the blood-stage antigen RH5.', 'Analysis of the diverse antigenic landscape of the malaria protein RH5 identifies a potent vaccine-induced human public antibody clonotype.', '\"Boosting\" tumor immunity in elderly mice by hyperactivating dendritic cells.', 'Digesting the complex metabolic effects of diet on the host and microbiome.', 'A metabolic balance of GLP1 and NMDA receptors in the brain.', 'Transforming obesity: The advancement of multireceptor drugs.', '100 years of the Warburg effect: A cancer metabolism endeavor.', 'Diabetes mellitusProgress and opportunities in the evolving epidemic.', '50 years of metabolism research at Cell.', 'Pancancer singlecell dissection reveals phenotypically distinct B cell subtypes.', 'MYBrelated transcription factors control chloroplast biogenesis.', 'Innate immune memory after brain injury drives inflammatory cardiac dysfunction.', 'Presynaptic sensor and silencer of peptidergic transmission reveal neuropeptides as primary transmitters in pontine fear circuit.', 'Integrated cryoEM structure of a spumaretrovirus reveals crosskingdom evolutionary relationships and the molecular basis for assembly and virus entry.', 'Allogeneic CD19targeted CART therapy in patients with severe myositis and systemic sclerosis.', 'The WDR11 complex is a receptor for acidicclustercontaining cargo proteins.', 'Molecular and cellular mechanisms of teneurin signaling in synaptic partner matching.', 'Assembly and activation of EBV latent membrane protein 1.', 'Threedimensional genome architecture persists in a 52,000yearold woolly mammoth skin sample.', 'Immune mechanisms in fibrotic interstitial lung disease.', 'Timing is everything: How plants optimize reproduction in a variable environment.', 'Reduction hits the sweet spot: A revised biosynthesis of dolichol.', 'Advancing accessible science for lowvision and diverseneeds communities.', 'TULIPs decorate the threedimensional genome of PFA ependymoma.', 'A noncanonical role for a small nucleolar RNA in ribosome biogenesis and senescence.', 'AllRNAmediated targeted gene integration in mammalian cells with rationally engineered R2 retrotransposons.', 'Intestinal Blastocystis is linked to healthier diets and more favorable cardiometabolic outcomes in 56,989 individuals from 32 countries.', 'Early rhombic lip Protogenin(+ve) stem cells in a humanspecific neurovascular niche initiate and maintain group 3 medulloblastoma.', 'Neoadjuvant PARPi or chemotherapy in ovarian cancer informs targeting effector Treg cells for homologous-recombination-deficient tumors.', 'Progestogendriven B7H4 contributes to oncofetal immune tolerance.', 'TMPRSS2 and glycan receptors synergistically facilitate coronavirus entry.', 'Human coronavirus HKU1 recognition of the TMPRSS2 host receptor.', 'The contribution of intimate partner violence to vertical HIV transmission: a modelling analysis of 46 African countries.', 'Analytical treatment interruption in children living with HIV: position statement from the EPIICAL consortium.', 'Addressing partner violence to end infant HIV infection.', 'IAPACLancet HIV Commission on the future of urban HIV responses.', 'Novel antiobesity drugs for people with HIV.', 'Reassuring longterm safety, resistance, and efficacy data for two daily formulations of PrEP.', 'Madagascar urgently needs a 2024 national prevalence survey of HIV.', 'HIV1 infection kinetics, drug resistance, and longterm safety of preexposure prophylaxis with emtricitabine plus tenofovir alafenamide (DISCOVER): week 144 open-label extension of a randomised, controlled, phase 3 trial.', 'Personcentred care for older adults living with HIV in subSaharan Africa.', \"Potential populationlevel effects of HIV selftest distribution among key populations in Côte d'Ivoire, Mali, and Senegal: a mathematical modelling analysis.\", 'Effects of selftesting on HIV outcomes in west Africa.', 'Lowcost pointofcare urine test to enhance PrEP adherence.', 'Impact of a pointofcare urine tenofovir assay on adherence to HIV preexposure prophylaxis among women in Kenya: a randomised pilot trial.', 'Steatotic liver disease and HIV: an agenda for 2030.', 'Is HIV epidemic control by 2030 realistic?', 'Effectiveness of integrating HIV prevention within sexual reproductive health services with or without peer support among adolescents and young adults in rural KwaZulu-Natal, South Africa (Isisekelo Sempilo): 2\\u2008×\\u20082 factorial, open-label, randomised controlled trial.', 'Integration of sexual health and HIV services.', 'Moving beyond hotspots of HIV prevalence to geospatial hotspots of UNAIDS 95-95-95 targets in sub-Saharan Africa.', 'Reducing HIV transmission in British Columbia, Canada.', 'Longitudinal evolution of the HIV effective reproduction number following sequential expansion of treatment as prevention and pre-exposure prophylaxis in British Columbia, Canada: a population-level programme evaluation.', 'Correction to Lancet HIV 2024; 11: e28599.', 'Reducing time to viral suppression in Europe.', 'Transition times across the HIV care continuum in Spain from 2005 to 2022: a longitudinal cohort study.', 'Critical illness due to infection in people living with HIV.', 'Dynamics of virological and immunological markers of HIV persistence after allogeneic haematopoietic stem-cell transplantation in the IciStem cohort: a prospective observational cohort study.', 'Responding to the global epidemic of amphetaminetype stimulant use compromising biomedical HIV prevention among men who have sex with men.', 'Reduction of HIV reservoir after stem cell transplantation.', 'Dolutegravir plus boosted darunavir versus recommended standardofcare antiretroviral regimens in people with HIV-1 for whom recommended first-line non-nucleoside reverse transcriptase inhibitor therapy has failed (D(2)EFT): an open-label, randomised, phase 3b/4 trial.', 'Secondline HIV treatments for adults in LMICs.', 'Efficacy and safety of three antiretroviral therapy regimens for treatmentnaive African adults living with HIV-2 (FIT-2): a pilot, phase 2, non-comparative, open-label, randomised controlled trial.', 'Closing the equity gap in the treatment of HIV2 infection.', 'Switch to fixeddose doravirine (100 mg) with islatravir (0·75 mg) once daily in virologically suppressed adults with HIV-1 on bictegravir, emtricitabine, and tenofovir alafenamide: 48-week results of a phase 3, randomised, controlled, double-blind, non-inferiority trial.', 'Switch to fixeddose doravirine (100 mg) with islatravir (0·75 mg) once daily in virologically suppressed adults with HIV-1 on antiretroviral therapy: 48-week results of a phase 3, randomised, open-label, non-inferiority trial.', 'Is this the end of the road for daily islatravir 0·75 mg?', 'Contextspecific estimates of vertical transmission.', 'Twodrug regimens for the treatment of HIV in Africa.', 'Safety and immunogenicity of a polyvalent DNAprotein HIV vaccine with matched Env immunogens delivered as a prime-boost regimen or coadministered in HIV-uninfected adults in the USA (HVTN 124): a phase 1, placebo-controlled, double-blind randomised controlled trial.', 'HIV at a crossroads in Pakistan.', 'DNA and protein HIV vaccines: how should we mix it?', 'Pharmacokinetics and safety of coformulated bictegravir, emtricitabine, and tenofovir alafenamide in children aged 2 years and older with virologically suppressed HIV: a phase 2/3, open-label, single-arm study.', 'Associations between change in BMI and the risk of hypertension and dyslipidaemia in people receiving integrase strand-transfer inhibitors, tenofovir alafenamide, or both compared with other contemporary antiretroviral regimens: a multicentre, prospective observational study from the RESPOND consortium cohorts.', 'More pressure on integrase strandtransfer inhibitors?', 'Expanding options of childfriendly, singletablet regimens for young children with HIV.', 'Nonsuppressible viraemia during HIV1 therapy: a challenge for clinicians.', 'Correction to Lancet HIV 2024; 11: e8695.', 'Enhancing HIV care with incentives: one size does not fit all.', 'Voucher incentives to improve viral suppression among HIVpositive people who inject drugs and men who have sex with men in India: a cluster randomised trial.', 'Intersectional climate justice, health equity, and HIV.', 'Correction to Lancet HIV 2024; 11: e6465.', 'Acceptability and tolerability of longacting injectable cabotegravir or rilpivirine in the first cohort of virologically suppressed adolescents living with HIV (IMPAACT 2017/MOCHA): a secondary analysis of a phase 1/2, multicentre, open-label, non-comparative dose-finding study.', 'Safety and pharmacokinetics of oral and longacting injectable cabotegravir or long-acting injectable rilpivirine in virologically suppressed adolescents with HIV (IMPAACT 2017/MOCHA): a phase 1/2, multicentre, open-label, non-comparative, dose-finding study.', 'Treatmentasprevention and HIV incidence in men who have sex with men.', \"Treatmentasprevention and HIV incidence in men who have sex with men  Authors' reply.\", 'Optimising PrEP uptake and use in Peru: no time to lose!', 'Are we ready for longacting HIV treatment for adolescents?', 'Collective antiretroviral protection: new dimensions of community HIV prevention practices at the intersection of U=U and PrEP.', 'Progress towards the UNAIDS 959595 targets in the Fifth Botswana AIDS Impact Survey (BAIS V 2021): a nationally representative survey.', 'Evidence with 959595 that ambitious is feasible.', 'Lowcost urine tenofovir assay to triage dolutegravir resistance testing.', 'Chromosome organization from the Ice Age.', 'RNU42 variants cause neurodevelopmental disorders.', 'G6PD deficiency and diabetes complications.', 'Silencing prion protein expression in the brain.', 'Genetic risk factors for COVID19 and influenza are largely distinct.', 'Promoting equity in polygenic risk assessment through global collaboration.', 'Stopped clinical trials give evidence for the value of genetics.', 'Rewiring gene circuitry for plant improvement.', 'Unravelling the origins and forces that shape mtDNA mutations in human cells.', 'Singlecell omics to unravel chronic kidney disease.', 'Mobile element insertions affect human pigmentation and skin cancer risk.', 'Understanding X chromosome loss.', 'Finding cancer mutagens using signature analysis.', 'Measuring nascent transcription in single cells.', 'A onestop shop for 3D spatial transcriptomics.', 'Improving estimates of lossoffunction constraint for short genes.', 'GeneMAP enables discovery of metabolic gene function.', 'Author Correction: LINE1 transcription activates longrange gene expression.', 'The potential and translational application of infant genetic research.', 'Mapping the lung fibrosis transcriptome of mice and men.', 'Mining the diagnosis of rare disease with limited resources.', 'Genetic gear switches drive cancer immune evasion.', 'A ΔNp63MED12 axis drives basallike identity in pancreatic cancer.', 'Nitrogen uptake and productive tiller formation in rice.', 'Interaction between MED12 and ΔNp63 activates basal identity in pancreatic ductal adenocarcinoma.', 'Metagenomics of the human gut mycobiome.', 'RNA editing with CRISPR.']\n"
     ]
    }
   ],
   "source": [
    "articles = storage.retrieve_all_articles()\n",
    "print(len(articles))\n",
    "docs = [i[1] for i in articles]\n",
    "\n",
    "nlp = spacy.load('en_core_web_sm', exclude=['tagger', 'parser', 'ner', 'attribute_ruler', 'lemmatizer'])\n",
    "print(docs)\n",
    "model = BERTopic.load(\"MaartenGr/BERTopic_ArXiv\")\n",
    "topic_model = BERTopic(embedding_model=model)\n",
    "\n",
    "topics, probs = topic_model.fit_transform(docs)\n",
    "\n"
   ]
  },
  {
   "cell_type": "code",
   "execution_count": 29,
   "id": "7ae5011e-55e4-41bf-a5bd-af5602e39b61",
   "metadata": {},
   "outputs": [
    {
     "name": "stdout",
     "output_type": "stream",
     "text": [
      "(325,)\n"
     ]
    }
   ],
   "source": [
    "print(probs.shape)"
   ]
  },
  {
   "cell_type": "code",
   "execution_count": 30,
   "id": "dea88f37-10a9-4830-8a75-83f8d91610a0",
   "metadata": {},
   "outputs": [
    {
     "name": "stdout",
     "output_type": "stream",
     "text": [
      "325\n",
      "1\n"
     ]
    }
   ],
   "source": [
    "print(len(topics))\n",
    "print(topics[2])"
   ]
  },
  {
   "cell_type": "code",
   "execution_count": null,
   "id": "ce5e93e5-562a-4e7a-a59b-ed3a4082ddae",
   "metadata": {},
   "outputs": [],
   "source": []
  }
 ],
 "metadata": {
  "kernelspec": {
   "display_name": "Python 3 (ipykernel)",
   "language": "python",
   "name": "python3"
  },
  "language_info": {
   "codemirror_mode": {
    "name": "ipython",
    "version": 3
   },
   "file_extension": ".py",
   "mimetype": "text/x-python",
   "name": "python",
   "nbconvert_exporter": "python",
   "pygments_lexer": "ipython3",
   "version": "3.12.3"
  }
 },
 "nbformat": 4,
 "nbformat_minor": 5
}
